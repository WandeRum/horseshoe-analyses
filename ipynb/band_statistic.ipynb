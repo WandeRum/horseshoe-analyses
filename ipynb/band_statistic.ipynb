{
 "cells": [
  {
   "cell_type": "code",
   "execution_count": 1,
   "metadata": {
    "collapsed": false
   },
   "outputs": [
    {
     "name": "stderr",
     "output_type": "stream",
     "text": [
      "/Users/mortonjt/miniconda3/envs/bio/lib/python3.5/site-packages/IPython/html.py:14: ShimWarning: The `IPython.html` package has been deprecated. You should import from `notebook` instead. `IPython.html.widgets` has moved to `ipywidgets`.\n",
      "  \"`IPython.html.widgets` has moved to `ipywidgets`.\", ShimWarning)\n"
     ]
    }
   ],
   "source": [
    "from __future__ import division\n",
    "import numpy as np\n",
    "import pandas as pd\n",
    "import matplotlib.pyplot as plt\n",
    "\n",
    "from skbio.stats.composition import (closure, perturb, power, ilr, ilr_inv,\n",
    "                                     inner, perturb_inv, clr, clr_inv, centralize)\n",
    "from skbio.diversity.beta import weighted_unifrac\n",
    "from skbio import TreeNode\n",
    "from skbio import OrdinationResults\n",
    "from skbio.stats.ordination import ca, pcoa\n",
    "from gneiss.util import rename_internal_nodes, match\n",
    "from gneiss.sort import niche_sort, mean_niche_estimator\n",
    "import scipy\n",
    "import ternary\n",
    "from skbio.stats.composition import (closure, perturb, power, ilr, ilr_inv, \n",
    "                                     inner, perturb_inv, clr, centralize)\n",
    "from skbio.diversity.beta import weighted_unifrac\n",
    "from skbio import TreeNode, DistanceMatrix\n",
    "\n",
    "from scipy.cluster.hierarchy import average\n",
    "from scipy.spatial.distance import euclidean\n",
    "from biom import load_table\n",
    "import seaborn as sns\n",
    "from matplotlib.gridspec import GridSpec\n",
    "from matplotlib import cm\n",
    "import random\n",
    "from ete3 import Tree, TreeStyle, NodeStyle, faces, AttrFace, CircleFace, BarChartFace\n",
    "from collections import OrderedDict\n",
    "\n",
    "from skbio.diversity import beta_diversity\n",
    "from skbio.stats.distance import permanova\n",
    "%matplotlib inline"
   ]
  },
  {
   "cell_type": "code",
   "execution_count": 2,
   "metadata": {
    "collapsed": true
   },
   "outputs": [],
   "source": [
    "def shift(l,n):\n",
    "    sl = l\n",
    "    table = [l]\n",
    "    if n == 0:\n",
    "        return table\n",
    "    else:\n",
    "        for k in range(n):\n",
    "            sl = shift1(sl)\n",
    "            table.append(sl)\n",
    "        return table\n",
    "def shift1(l):\n",
    "    newlist = [0] * len(l)\n",
    "    for i in range(1,len(l)):\n",
    "        newlist[i] = l[i-1]\n",
    "    return newlist\n",
    "\n",
    "def band_statistic(table):\n",
    "    n, m = table.shape\n",
    "    sse = 0\n",
    "    for x in range(table.shape[0]):\n",
    "        for y in range(table.shape[1]):\n",
    "            sse += ((y - (n/m) * x) * table[x, y]) **2\n",
    "    return sse\n",
    "    "
   ]
  },
  {
   "cell_type": "code",
   "execution_count": 3,
   "metadata": {
    "collapsed": false
   },
   "outputs": [],
   "source": [
    "n = 30  #otus \n",
    "band = 10 #band size\n",
    "p = n - band + 1 #samples\n",
    "y = [1./band]*band + [0]*(n-band)\n",
    "table = shift(y,p-1)\n",
    "table = np.column_stack(table)"
   ]
  },
  {
   "cell_type": "code",
   "execution_count": 4,
   "metadata": {
    "collapsed": false
   },
   "outputs": [
    {
     "data": {
      "image/png": "[encoded data removed]",
      "text/plain": [
       "<matplotlib.figure.Figure at 0x10fb3f780>"
      ]
     },
     "metadata": {},
     "output_type": "display_data"
    }
   ],
   "source": [
    "plt.imshow(table, aspect='auto', interpolation='nearest')\n",
    "plt.grid(False)"
   ]
  },
  {
   "cell_type": "code",
   "execution_count": 5,
   "metadata": {
    "collapsed": false
   },
   "outputs": [
    {
     "data": {
      "text/plain": [
       "290.57142857142878"
      ]
     },
     "execution_count": 5,
     "metadata": {},
     "output_type": "execute_result"
    }
   ],
   "source": [
    "band_statistic(table)"
   ]
  },
  {
   "cell_type": "code",
   "execution_count": 6,
   "metadata": {
    "collapsed": true
   },
   "outputs": [],
   "source": [
    "table_df = pd.DataFrame(table)\n",
    "gradient_s = pd.Series(range(table.shape[0]))"
   ]
  },
  {
   "cell_type": "code",
   "execution_count": 7,
   "metadata": {
    "collapsed": false
   },
   "outputs": [
    {
     "data": {
      "text/plain": [
       "290.57142857142878"
      ]
     },
     "execution_count": 7,
     "metadata": {},
     "output_type": "execute_result"
    }
   ],
   "source": [
    "band_statistic(niche_sort(table_df, gradient_s).values)"
   ]
  },
  {
   "cell_type": "markdown",
   "metadata": {},
   "source": [
    "Ok, let's try to see what this will look like for random data."
   ]
  },
  {
   "cell_type": "code",
   "execution_count": 8,
   "metadata": {
    "collapsed": false
   },
   "outputs": [],
   "source": [
    "random_table = pd.DataFrame(np.random.uniform(low=0.0, high=2.0, size=table.shape))\n",
    "random_ph = pd.Series(np.random.uniform(low=0.0, high=1.0, size=table.shape[1]))\n",
    "random_sorted_table = niche_sort(random_table, random_ph)"
   ]
  },
  {
   "cell_type": "code",
   "execution_count": 9,
   "metadata": {
    "collapsed": false
   },
   "outputs": [
    {
     "data": {
      "image/png": "[encoded data removed]",
      "text/plain": [
       "<matplotlib.figure.Figure at 0x10fb6d7b8>"
      ]
     },
     "metadata": {},
     "output_type": "display_data"
    }
   ],
   "source": [
    "plt.imshow(random_sorted_table, aspect='auto', interpolation='nearest')\n",
    "plt.grid(False)"
   ]
  },
  {
   "cell_type": "code",
   "execution_count": 10,
   "metadata": {
    "collapsed": false
   },
   "outputs": [
    {
     "data": {
      "text/plain": [
       "243714.98606534139"
      ]
     },
     "execution_count": 10,
     "metadata": {},
     "output_type": "execute_result"
    }
   ],
   "source": [
    "band_statistic(random_table.values)"
   ]
  },
  {
   "cell_type": "markdown",
   "metadata": {},
   "source": [
    "Ok, so it looks like our simple statistic isn't complete crap.\n",
    "Let's now try to formalize a permutation test."
   ]
  },
  {
   "cell_type": "code",
   "execution_count": 11,
   "metadata": {
    "collapsed": false
   },
   "outputs": [],
   "source": [
    "\"\"\"\n",
    "Only permutes the pH\n",
    "\"\"\"\n",
    "def band_permutation_test1(table:pd.DataFrame, gradient: pd.Series, \n",
    "                           permutations: int=999):\n",
    "    _table = niche_sort(table, gradient)\n",
    "    sse = band_statistic(_table.values)\n",
    "    \n",
    "    sse_stats = np.zeros(permutations)\n",
    "    for p in range(permutations):\n",
    "        _gradient = pd.Series(np.random.permutation(gradient_s),\n",
    "                              index=gradient_s.index)\n",
    "        _table = niche_sort(table, _gradient)\n",
    "        sse_ = band_statistic(_table.values)\n",
    "        sse_stats[p] = sse_\n",
    "    pvalue = ((sse >= sse_stats).sum() + 1) / (permutations + 1)\n",
    "    return sse, pvalue, sse_stats"
   ]
  },
  {
   "cell_type": "code",
   "execution_count": 12,
   "metadata": {
    "collapsed": false
   },
   "outputs": [],
   "source": [
    "table_df = pd.DataFrame(table)\n",
    "gradient_s = pd.Series(range(table.shape[0]))"
   ]
  },
  {
   "cell_type": "code",
   "execution_count": 13,
   "metadata": {
    "collapsed": false
   },
   "outputs": [],
   "source": [
    "stat, pval, rstats = band_permutation_test1(table_df, gradient_s)"
   ]
  },
  {
   "cell_type": "code",
   "execution_count": 14,
   "metadata": {
    "collapsed": false
   },
   "outputs": [
    {
     "data": {
      "text/plain": [
       "(290.57142857142878, 0.001)"
      ]
     },
     "execution_count": 14,
     "metadata": {},
     "output_type": "execute_result"
    }
   ],
   "source": [
    "stat, pval"
   ]
  },
  {
   "cell_type": "code",
   "execution_count": 15,
   "metadata": {
    "collapsed": false
   },
   "outputs": [
    {
     "name": "stderr",
     "output_type": "stream",
     "text": [
      "/Users/mortonjt/miniconda3/envs/bio/lib/python3.5/site-packages/statsmodels/nonparametric/kdetools.py:20: VisibleDeprecationWarning: using a non-integer number instead of an integer will result in an error in the future\n",
      "  y = X[:m/2+1] + np.r_[0,X[m/2+1:],0]*1j\n"
     ]
    },
    {
     "data": {
      "text/plain": [
       "<matplotlib.axes._subplots.AxesSubplot at 0x10fbbe828>"
      ]
     },
     "execution_count": 15,
     "metadata": {},
     "output_type": "execute_result"
    },
    {
     "data": {
      "image/png": "[encoded data removed]",
      "text/plain": [
       "<matplotlib.figure.Figure at 0x10fb5e898>"
      ]
     },
     "metadata": {},
     "output_type": "display_data"
    }
   ],
   "source": [
    "sns.distplot(rstats)"
   ]
  },
  {
   "cell_type": "code",
   "execution_count": 16,
   "metadata": {
    "collapsed": false
   },
   "outputs": [],
   "source": [
    "\"\"\"\n",
    "Completely scrambles elements within the table.\n",
    "\"\"\"\n",
    "def band_permutation_test2(table:pd.DataFrame, gradient: pd.Series, \n",
    "                           permutations: int=999):\n",
    "    _table = niche_sort(table, gradient)\n",
    "    sse = band_statistic(_table.values)\n",
    "    \n",
    "    sse_stats = np.zeros(permutations)\n",
    "    for p in range(permutations):\n",
    "        vals = np.random.permutation(table.values.flatten())\n",
    "        _table = pd.DataFrame(vals.reshape(table.shape[0], table.shape[1]),\n",
    "                              index=table.index, columns=table.columns)    \n",
    "        _table = niche_sort(_table, gradient)\n",
    "        sse_ = band_statistic(_table.values)\n",
    "        sse_stats[p] = sse_\n",
    "    pvalue = ((sse >= sse_stats).sum() + 1) / (permutations + 1)\n",
    "    return sse, pvalue, sse_stats"
   ]
  },
  {
   "cell_type": "code",
   "execution_count": 17,
   "metadata": {
    "collapsed": false
   },
   "outputs": [],
   "source": [
    "stat, pval, rstats = band_permutation_test2(table_df, gradient_s)"
   ]
  },
  {
   "cell_type": "code",
   "execution_count": 18,
   "metadata": {
    "collapsed": false
   },
   "outputs": [
    {
     "data": {
      "text/plain": [
       "(290.57142857142878, 0.001)"
      ]
     },
     "execution_count": 18,
     "metadata": {},
     "output_type": "execute_result"
    }
   ],
   "source": [
    "stat, pval"
   ]
  },
  {
   "cell_type": "code",
   "execution_count": 19,
   "metadata": {
    "collapsed": false
   },
   "outputs": [
    {
     "name": "stderr",
     "output_type": "stream",
     "text": [
      "/Users/mortonjt/miniconda3/envs/bio/lib/python3.5/site-packages/statsmodels/nonparametric/kdetools.py:20: VisibleDeprecationWarning: using a non-integer number instead of an integer will result in an error in the future\n",
      "  y = X[:m/2+1] + np.r_[0,X[m/2+1:],0]*1j\n"
     ]
    },
    {
     "data": {
      "text/plain": [
       "<matplotlib.axes._subplots.AxesSubplot at 0x10fd31128>"
      ]
     },
     "execution_count": 19,
     "metadata": {},
     "output_type": "execute_result"
    },
    {
     "data": {
      "image/png": "[encoded data removed]",
      "text/plain": [
       "<matplotlib.figure.Figure at 0x10feaeeb8>"
      ]
     },
     "metadata": {},
     "output_type": "display_data"
    }
   ],
   "source": [
    "sns.distplot(rstats)"
   ]
  },
  {
   "cell_type": "code",
   "execution_count": null,
   "metadata": {
    "collapsed": true
   },
   "outputs": [],
   "source": []
  }
 ],
 "metadata": {
  "kernelspec": {
   "display_name": "Python 3",
   "language": "python",
   "name": "python3"
  },
  "language_info": {
   "codemirror_mode": {
    "name": "ipython",
    "version": 3
   },
   "file_extension": ".py",
   "mimetype": "text/x-python",
   "name": "python",
   "nbconvert_exporter": "python",
   "pygments_lexer": "ipython3",
   "version": "3.5.2"
  }
 },
 "nbformat": 4,
 "nbformat_minor": 0
}
