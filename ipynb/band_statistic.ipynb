{
 "cells": [
  {
   "cell_type": "code",
   "execution_count": 1,
   "metadata": {
    "collapsed": false
   },
   "outputs": [
    {
     "name": "stderr",
     "output_type": "stream",
     "text": [
      "/Users/mortonjt/miniconda3/envs/bio/lib/python3.5/site-packages/IPython/html.py:14: ShimWarning: The `IPython.html` package has been deprecated. You should import from `notebook` instead. `IPython.html.widgets` has moved to `ipywidgets`.\n",
      "  \"`IPython.html.widgets` has moved to `ipywidgets`.\", ShimWarning)\n"
     ]
    }
   ],
   "source": [
    "from __future__ import division\n",
    "import numpy as np\n",
    "import pandas as pd\n",
    "import matplotlib.pyplot as plt\n",
    "\n",
    "from gneiss.sort import niche_sort\n",
    "import seaborn as sns\n",
    "from matplotlib import cm\n",
    "\n",
    "from scipy.stats import skew\n",
    "%matplotlib inline"
   ]
  },
  {
   "cell_type": "markdown",
   "metadata": {},
   "source": [
    "Let's first add some code used to simulate band tables"
   ]
  },
  {
   "cell_type": "code",
   "execution_count": 2,
   "metadata": {
    "collapsed": true
   },
   "outputs": [],
   "source": [
    "def shift(l,n):\n",
    "    sl = l\n",
    "    table = [l]\n",
    "    if n == 0:\n",
    "        return table\n",
    "    else:\n",
    "        for k in range(n):\n",
    "            sl = shift1(sl)\n",
    "            table.append(sl)\n",
    "        return table\n",
    "def shift1(l):\n",
    "    newlist = [0] * len(l)\n",
    "    for i in range(1,len(l)):\n",
    "        newlist[i] = l[i-1]\n",
    "    return newlist    "
   ]
  },
  {
   "cell_type": "markdown",
   "metadata": {},
   "source": [
    "Now, let's create a statistic to measure the strength of a band pattern.\n",
    "\n",
    "Here, we will simplify measure the distance of a cell away from the diagonal, and weight that distance \n",
    "by the value in that cell."
   ]
  },
  {
   "cell_type": "code",
   "execution_count": 3,
   "metadata": {
    "collapsed": true
   },
   "outputs": [],
   "source": [
    "def band_statistic(table):\n",
    "    n, m = table.shape\n",
    "    sse = 0\n",
    "    for x in range(table.shape[0]):\n",
    "        for y in range(table.shape[1]):\n",
    "            sse += ((y - (n/m) * x) * table[x, y]) **2\n",
    "    return sse"
   ]
  },
  {
   "cell_type": "markdown",
   "metadata": {},
   "source": [
    "Let's create a really small table for demonstration."
   ]
  },
  {
   "cell_type": "code",
   "execution_count": 4,
   "metadata": {
    "collapsed": false
   },
   "outputs": [],
   "source": [
    "n = 30  #otus \n",
    "band = 10 #band size\n",
    "p = n - band + 1 #samples\n",
    "y = [1./band]*band + [0]*(n-band)\n",
    "table = shift(y,p-1)\n",
    "table = np.column_stack(table)"
   ]
  },
  {
   "cell_type": "code",
   "execution_count": 5,
   "metadata": {
    "collapsed": false
   },
   "outputs": [
    {
     "data": {
      "image/png": "[encoded data removed]",
      "text/plain": [
       "<matplotlib.figure.Figure at 0x10f382e10>"
      ]
     },
     "metadata": {},
     "output_type": "display_data"
    }
   ],
   "source": [
    "plt.imshow(table, aspect='auto', interpolation='nearest')\n",
    "plt.grid(False)"
   ]
  },
  {
   "cell_type": "code",
   "execution_count": 6,
   "metadata": {
    "collapsed": false
   },
   "outputs": [
    {
     "data": {
      "text/plain": [
       "290.57142857142878"
      ]
     },
     "execution_count": 6,
     "metadata": {},
     "output_type": "execute_result"
    }
   ],
   "source": [
    "band_statistic(table)"
   ]
  },
  {
   "cell_type": "code",
   "execution_count": 7,
   "metadata": {
    "collapsed": true
   },
   "outputs": [],
   "source": [
    "table_df = pd.DataFrame(table)\n",
    "gradient_s = pd.Series(range(table.shape[0]))"
   ]
  },
  {
   "cell_type": "code",
   "execution_count": 8,
   "metadata": {
    "collapsed": false
   },
   "outputs": [
    {
     "data": {
      "text/plain": [
       "290.57142857142878"
      ]
     },
     "execution_count": 8,
     "metadata": {},
     "output_type": "execute_result"
    }
   ],
   "source": [
    "band_statistic(niche_sort(table_df, gradient_s).values)"
   ]
  },
  {
   "cell_type": "markdown",
   "metadata": {},
   "source": [
    "Ok, let's try to see what this will look like for random data."
   ]
  },
  {
   "cell_type": "code",
   "execution_count": 9,
   "metadata": {
    "collapsed": false
   },
   "outputs": [],
   "source": [
    "random_table = pd.DataFrame(np.random.uniform(low=0.0, high=2.0, size=table.shape))\n",
    "random_ph = pd.Series(np.random.uniform(low=0.0, high=1.0, size=table.shape[1]))\n",
    "random_sorted_table = niche_sort(random_table, random_ph)"
   ]
  },
  {
   "cell_type": "code",
   "execution_count": 10,
   "metadata": {
    "collapsed": false
   },
   "outputs": [
    {
     "data": {
      "image/png": "[encoded data removed]",
      "text/plain": [
       "<matplotlib.figure.Figure at 0x10f3b3240>"
      ]
     },
     "metadata": {},
     "output_type": "display_data"
    }
   ],
   "source": [
    "plt.imshow(random_sorted_table, aspect='auto', interpolation='nearest')\n",
    "plt.grid(False)"
   ]
  },
  {
   "cell_type": "code",
   "execution_count": 11,
   "metadata": {
    "collapsed": false
   },
   "outputs": [
    {
     "data": {
      "text/plain": [
       "230688.94322588673"
      ]
     },
     "execution_count": 11,
     "metadata": {},
     "output_type": "execute_result"
    }
   ],
   "source": [
    "band_statistic(random_table.values)"
   ]
  },
  {
   "cell_type": "markdown",
   "metadata": {},
   "source": [
    "Ok, so it looks like our simple statistic isn't complete crap.\n",
    "Let's now try to formalize a permutation test.\n",
    "\n",
    "Here, we will randomly permute values along the gradient, and `niche_sort` the table\n",
    "according to values in this gradient.  We'll use the band statistic applied to these\n",
    "scrambed/resorted tables to see how reliable the original statistic is."
   ]
  },
  {
   "cell_type": "code",
   "execution_count": 12,
   "metadata": {
    "collapsed": false
   },
   "outputs": [],
   "source": [
    "\"\"\"\n",
    "Only permutes the pH\n",
    "\"\"\"\n",
    "def band_permutation_test1(table:pd.DataFrame, gradient: pd.Series, \n",
    "                           permutations: int=999):\n",
    "    _table = niche_sort(table, gradient)\n",
    "    sse = band_statistic(_table.values)\n",
    "    \n",
    "    sse_stats = np.zeros(permutations)\n",
    "    for p in range(permutations):\n",
    "        _gradient = pd.Series(np.random.permutation(gradient_s),\n",
    "                              index=gradient_s.index)\n",
    "        _table = niche_sort(table, _gradient)\n",
    "        sse_ = band_statistic(_table.values)\n",
    "        sse_stats[p] = sse_\n",
    "    pvalue = ((sse >= sse_stats).sum() + 1) / (permutations + 1)\n",
    "    return sse, pvalue, sse_stats"
   ]
  },
  {
   "cell_type": "code",
   "execution_count": 13,
   "metadata": {
    "collapsed": false
   },
   "outputs": [],
   "source": [
    "table_df = pd.DataFrame(table)\n",
    "gradient_s = pd.Series(range(table.shape[0]))"
   ]
  },
  {
   "cell_type": "code",
   "execution_count": 14,
   "metadata": {
    "collapsed": false
   },
   "outputs": [],
   "source": [
    "stat, pval, rstats = band_permutation_test1(table_df, gradient_s)"
   ]
  },
  {
   "cell_type": "code",
   "execution_count": 15,
   "metadata": {
    "collapsed": false
   },
   "outputs": [
    {
     "data": {
      "text/plain": [
       "(290.57142857142878, 0.001)"
      ]
     },
     "execution_count": 15,
     "metadata": {},
     "output_type": "execute_result"
    }
   ],
   "source": [
    "stat, pval"
   ]
  },
  {
   "cell_type": "markdown",
   "metadata": {},
   "source": [
    "Ok, what does the distribution of permuted band statistics look like?"
   ]
  },
  {
   "cell_type": "code",
   "execution_count": 16,
   "metadata": {
    "collapsed": false
   },
   "outputs": [
    {
     "name": "stderr",
     "output_type": "stream",
     "text": [
      "/Users/mortonjt/miniconda3/envs/bio/lib/python3.5/site-packages/statsmodels/nonparametric/kdetools.py:20: VisibleDeprecationWarning: using a non-integer number instead of an integer will result in an error in the future\n",
      "  y = X[:m/2+1] + np.r_[0,X[m/2+1:],0]*1j\n"
     ]
    },
    {
     "data": {
      "text/plain": [
       "<matplotlib.axes._subplots.AxesSubplot at 0x10f49f470>"
      ]
     },
     "execution_count": 16,
     "metadata": {},
     "output_type": "execute_result"
    },
    {
     "data": {
      "image/png": "[encoded data removed]",
      "text/plain": [
       "<matplotlib.figure.Figure at 0x1069c8da0>"
      ]
     },
     "metadata": {},
     "output_type": "display_data"
    }
   ],
   "source": [
    "sns.distplot(rstats)"
   ]
  },
  {
   "cell_type": "code",
   "execution_count": 17,
   "metadata": {
    "collapsed": false
   },
   "outputs": [
    {
     "name": "stdout",
     "output_type": "stream",
     "text": [
      "mean 578.622369308\n",
      "variance 3361.04663917\n",
      "skew -0.3955158466490613\n"
     ]
    }
   ],
   "source": [
    "print('mean', rstats.mean())\n",
    "print('variance', rstats.var())\n",
    "print('skew', skew(rstats))"
   ]
  },
  {
   "cell_type": "markdown",
   "metadata": {},
   "source": [
    "It doesn't look normal.  Definitely is skewed towards the right.\n",
    "\n",
    "But rather than permutating the labels of the gradient, what if we scramble all of the\n",
    "values in the table?  We'll use a similar strategy as above.  But rather than\n",
    "scrambling the gradient values, we'll scramble the table values, and `niche_sort` the table \n",
    "with respect to the gradient values."
   ]
  },
  {
   "cell_type": "code",
   "execution_count": 18,
   "metadata": {
    "collapsed": false
   },
   "outputs": [],
   "source": [
    "\"\"\"\n",
    "Completely scrambles elements within the table.\n",
    "\"\"\"\n",
    "def band_permutation_test2(table:pd.DataFrame, gradient: pd.Series, \n",
    "                           permutations: int=999):\n",
    "    _table = niche_sort(table, gradient)\n",
    "    sse = band_statistic(_table.values)\n",
    "    \n",
    "    sse_stats = np.zeros(permutations)\n",
    "    for p in range(permutations):\n",
    "        vals = np.random.permutation(table.values.flatten())\n",
    "        _table = pd.DataFrame(vals.reshape(table.shape[0], table.shape[1]),\n",
    "                              index=table.index, columns=table.columns)    \n",
    "        _table = niche_sort(_table, gradient)\n",
    "        sse_ = band_statistic(_table.values)\n",
    "        sse_stats[p] = sse_\n",
    "    pvalue = ((sse >= sse_stats).sum() + 1) / (permutations + 1)\n",
    "    return sse, pvalue, sse_stats"
   ]
  },
  {
   "cell_type": "code",
   "execution_count": 19,
   "metadata": {
    "collapsed": false
   },
   "outputs": [],
   "source": [
    "stat, pval, rstats = band_permutation_test2(table_df, gradient_s)"
   ]
  },
  {
   "cell_type": "code",
   "execution_count": 20,
   "metadata": {
    "collapsed": false
   },
   "outputs": [
    {
     "data": {
      "text/plain": [
       "(290.57142857142878, 0.001)"
      ]
     },
     "execution_count": 20,
     "metadata": {},
     "output_type": "execute_result"
    }
   ],
   "source": [
    "stat, pval"
   ]
  },
  {
   "cell_type": "code",
   "execution_count": 21,
   "metadata": {
    "collapsed": false
   },
   "outputs": [
    {
     "name": "stderr",
     "output_type": "stream",
     "text": [
      "/Users/mortonjt/miniconda3/envs/bio/lib/python3.5/site-packages/statsmodels/nonparametric/kdetools.py:20: VisibleDeprecationWarning: using a non-integer number instead of an integer will result in an error in the future\n",
      "  y = X[:m/2+1] + np.r_[0,X[m/2+1:],0]*1j\n"
     ]
    },
    {
     "data": {
      "text/plain": [
       "<matplotlib.axes._subplots.AxesSubplot at 0x10f6d10f0>"
      ]
     },
     "execution_count": 21,
     "metadata": {},
     "output_type": "execute_result"
    },
    {
     "data": {
      "image/png": "[encoded data removed]",
      "text/plain": [
       "<matplotlib.figure.Figure at 0x10f47ed30>"
      ]
     },
     "metadata": {},
     "output_type": "display_data"
    }
   ],
   "source": [
    "sns.distplot(rstats)"
   ]
  },
  {
   "cell_type": "code",
   "execution_count": 22,
   "metadata": {
    "collapsed": false
   },
   "outputs": [
    {
     "name": "stdout",
     "output_type": "stream",
     "text": [
      "mean 564.524275091\n",
      "variance 1713.39063102\n",
      "skew 0.18804925869123917\n"
     ]
    }
   ],
   "source": [
    "print('mean', rstats.mean())\n",
    "print('variance', rstats.var())\n",
    "print('skew', skew(rstats))"
   ]
  },
  {
   "cell_type": "markdown",
   "metadata": {},
   "source": [
    "Now this statistic seems to be skewed the opposite direction.  While these distributions are a little similar, \n",
    "the first distribution has a significantly larger mean than the second distribution."
   ]
  },
  {
   "cell_type": "code",
   "execution_count": null,
   "metadata": {
    "collapsed": true
   },
   "outputs": [],
   "source": []
  }
 ],
 "metadata": {
  "kernelspec": {
   "display_name": "Python 3",
   "language": "python",
   "name": "python3"
  },
  "language_info": {
   "codemirror_mode": {
    "name": "ipython",
    "version": 3
   },
   "file_extension": ".py",
   "mimetype": "text/x-python",
   "name": "python",
   "nbconvert_exporter": "python",
   "pygments_lexer": "ipython3",
   "version": "3.5.2"
  }
 },
 "nbformat": 4,
 "nbformat_minor": 0
}
