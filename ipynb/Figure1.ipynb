{
 "cells": [
  {
   "cell_type": "code",
   "execution_count": 1,
   "metadata": {
    "collapsed": true
   },
   "outputs": [],
   "source": [
    "import pandas as pd\n",
    "import numpy as np\n",
    "from biom import load_table\n",
    "from skbio.stats.ordination import ca, pcoa\n",
    "from skbio import DistanceMatrix\n",
    "import matplotlib.pyplot as plt\n",
    "import scipy\n",
    "from gneiss.util import match\n",
    "from functools import partial\n",
    "%matplotlib inline"
   ]
  },
  {
   "cell_type": "code",
   "execution_count": 2,
   "metadata": {
    "collapsed": false
   },
   "outputs": [],
   "source": [
    "soils88_table = load_table('../data/238_otu_table.biom')\n",
    "soils88_mapping = pd.read_table('../data/103_prep_568_qiime_20150818-225427.txt', index_col=0)\n",
    "\n",
    "emp_subtable = load_table('../data/pst_table.biom')\n",
    "emp_submapping = pd.read_table('../data/pst_mapping.txt', index_col=0)"
   ]
  },
  {
   "cell_type": "code",
   "execution_count": 3,
   "metadata": {
    "collapsed": false
   },
   "outputs": [],
   "source": [
    "def convert_biom_to_pandas(table):\n",
    "    \"\"\" Unpacks biom table into two pandas dataframes.\n",
    "    \n",
    "    Parameters\n",
    "    ----------\n",
    "    table : biom.Table\n",
    "    \n",
    "    Returns\n",
    "    -------\n",
    "    otu_table : pd.DataFrame\n",
    "        Contingency table of counts where samples correspond \n",
    "        to rows and columns correspond to features (i.e. OTUs)\n",
    "    taxonomy : pd.DataFrame\n",
    "        A mapping of OTU names to taxonomic ids\n",
    "    \"\"\"\n",
    "    otu_table = pd.DataFrame(np.array(table.matrix_data.todense()).T,\n",
    "                             index=table.ids(axis='sample'),\n",
    "                             columns=table.ids(axis='observation'))\n",
    "    otu_ids = table.ids(axis='observation')\n",
    "    \n",
    "    mapping = {}\n",
    "    fillers = ['k__', 'p__', 'c__', 'o__', 'f__', 'g__', 's__']\n",
    "    for id_ in otu_ids:        \n",
    "        taxa = table.metadata(id=id_, axis='observation')['taxonomy']\n",
    "        xtra = len(fillers) - len(taxa)\n",
    "        if xtra > 0:\n",
    "            mapping[id_] = taxa + fillers[-xtra:]\n",
    "        else:\n",
    "            mapping[id_] = taxa\n",
    "        \n",
    "    #mapping = {i: table.metadata(id=i, axis='observation')['taxonomy'] for i in otu_ids}\n",
    "    taxonomy = pd.DataFrame(mapping, \n",
    "                            index=['kingdom', 'phylum', 'class', 'order', \n",
    "                                   'family', 'genus', 'species']).T\n",
    "    return otu_table, taxonomy\n"
   ]
  },
  {
   "cell_type": "code",
   "execution_count": 4,
   "metadata": {
    "collapsed": true
   },
   "outputs": [],
   "source": [
    "soils88_table, soils88_taxonomy = convert_biom_to_pandas(soils88_table)\n",
    "emp_subtable, emp_taxonomy = convert_biom_to_pandas(emp_subtable)"
   ]
  },
  {
   "cell_type": "code",
   "execution_count": 9,
   "metadata": {
    "collapsed": true
   },
   "outputs": [],
   "source": [
    "soils88_table, soils88_mapping = match(soils88_table, soils88_mapping)\n",
    "emp_subtable, emp_submapping = match(emp_subtable, emp_submapping)"
   ]
  },
  {
   "cell_type": "code",
   "execution_count": 10,
   "metadata": {
    "collapsed": false
   },
   "outputs": [],
   "source": [
    "soils88_euclidean_dm = DistanceMatrix.from_iterable(soils88_table.values, metric=scipy.spatial.distance.euclidean)\n",
    "soils88_euclidean_dm.ids = soils88_table.index\n",
    "soils88_euclidean_pc = pcoa(soils88_euclidean_dm)"
   ]
  },
  {
   "cell_type": "code",
   "execution_count": 15,
   "metadata": {
    "collapsed": false
   },
   "outputs": [
    {
     "data": {
      "text/plain": [
       "<matplotlib.collections.PathCollection at 0x1129bb9b0>"
      ]
     },
     "execution_count": 15,
     "metadata": {},
     "output_type": "execute_result"
    },
    {
     "data": {
      "image/png": "[encoded data removed]",
      "text/plain": [
       "<matplotlib.figure.Figure at 0x11339c710>"
      ]
     },
     "metadata": {},
     "output_type": "display_data"
    }
   ],
   "source": [
    "plt.scatter(soils88_euclidean_pc.samples.PC1, soils88_euclidean_pc.samples.PC2, c=soils88_mapping.ph)"
   ]
  },
  {
   "cell_type": "code",
   "execution_count": null,
   "metadata": {
    "collapsed": true
   },
   "outputs": [],
   "source": []
  }
 ],
 "metadata": {
  "kernelspec": {
   "display_name": "Python 3",
   "language": "python",
   "name": "python3"
  },
  "language_info": {
   "codemirror_mode": {
    "name": "ipython",
    "version": 3
   },
   "file_extension": ".py",
   "mimetype": "text/x-python",
   "name": "python",
   "nbconvert_exporter": "python",
   "pygments_lexer": "ipython3",
   "version": "3.5.2"
  }
 },
 "nbformat": 4,
 "nbformat_minor": 0
}
